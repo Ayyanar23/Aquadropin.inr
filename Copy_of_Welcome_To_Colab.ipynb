{
  "cells": [
    {
      "cell_type": "markdown",
      "metadata": {
        "id": "view-in-github",
        "colab_type": "text"
      },
      "source": [
        "<a href=\"https://colab.research.google.com/github/Ayyanar23/Aquadropin.inr/blob/main/Copy_of_Welcome_To_Colab.ipynb\" target=\"_parent\"><img src=\"https://colab.research.google.com/assets/colab-badge.svg\" alt=\"Open In Colab\"/></a>"
      ]
    },
    {
      "cell_type": "code",
      "source": [
        "!pip install phonenumbers"
      ],
      "metadata": {
        "id": "yUX8qNwjVU7X",
        "outputId": "4a89f13c-a269-489c-cc11-5ecef619401a",
        "colab": {
          "base_uri": "https://localhost:8080/"
        }
      },
      "execution_count": null,
      "outputs": [
        {
          "output_type": "stream",
          "name": "stdout",
          "text": [
            "Collecting phonenumbers\n",
            "  Downloading phonenumbers-8.13.47-py2.py3-none-any.whl.metadata (10 kB)\n",
            "Downloading phonenumbers-8.13.47-py2.py3-none-any.whl (2.6 MB)\n",
            "\u001b[2K   \u001b[90m━━━━━━━━━━━━━━━━━━━━━━━━━━━━━━━━━━━━━━━━\u001b[0m \u001b[32m2.6/2.6 MB\u001b[0m \u001b[31m16.1 MB/s\u001b[0m eta \u001b[36m0:00:00\u001b[0m\n",
            "\u001b[?25hInstalling collected packages: phonenumbers\n",
            "Successfully installed phonenumbers-8.13.47\n"
          ]
        }
      ]
    },
    {
      "cell_type": "code",
      "source": [
        "!pip install folium"
      ],
      "metadata": {
        "id": "wOYAXKRBViHH",
        "outputId": "cb594a3e-9466-4953-af4b-8b12f34c8d56",
        "colab": {
          "base_uri": "https://localhost:8080/"
        }
      },
      "execution_count": null,
      "outputs": [
        {
          "output_type": "stream",
          "name": "stdout",
          "text": [
            "Requirement already satisfied: folium in /usr/local/lib/python3.10/dist-packages (0.17.0)\n",
            "Requirement already satisfied: branca>=0.6.0 in /usr/local/lib/python3.10/dist-packages (from folium) (0.8.0)\n",
            "Requirement already satisfied: jinja2>=2.9 in /usr/local/lib/python3.10/dist-packages (from folium) (3.1.4)\n",
            "Requirement already satisfied: numpy in /usr/local/lib/python3.10/dist-packages (from folium) (1.26.4)\n",
            "Requirement already satisfied: requests in /usr/local/lib/python3.10/dist-packages (from folium) (2.32.3)\n",
            "Requirement already satisfied: xyzservices in /usr/local/lib/python3.10/dist-packages (from folium) (2024.9.0)\n",
            "Requirement already satisfied: MarkupSafe>=2.0 in /usr/local/lib/python3.10/dist-packages (from jinja2>=2.9->folium) (2.1.5)\n",
            "Requirement already satisfied: charset-normalizer<4,>=2 in /usr/local/lib/python3.10/dist-packages (from requests->folium) (3.3.2)\n",
            "Requirement already satisfied: idna<4,>=2.5 in /usr/local/lib/python3.10/dist-packages (from requests->folium) (3.10)\n",
            "Requirement already satisfied: urllib3<3,>=1.21.1 in /usr/local/lib/python3.10/dist-packages (from requests->folium) (2.2.3)\n",
            "Requirement already satisfied: certifi>=2017.4.17 in /usr/local/lib/python3.10/dist-packages (from requests->folium) (2024.8.30)\n"
          ]
        }
      ]
    },
    {
      "cell_type": "code",
      "source": [
        "import phonenumbers\n",
        "from phonenumbers import geocoder\n",
        "import folium"
      ],
      "metadata": {
        "id": "i4y57gJ9ViKF"
      },
      "execution_count": null,
      "outputs": []
    },
    {
      "cell_type": "code",
      "source": [
        "\n",
        "key = \"320c197385e943c4806fbb3f17d7ae8d\"\n",
        "number = \"6381683582\"  # Example number\n",
        "check_number = phonenumbers.parse(number, \"IN\")  # Specify the country code\n"
      ],
      "metadata": {
        "id": "Zax-rIvJViM5"
      },
      "execution_count": null,
      "outputs": []
    },
    {
      "cell_type": "code",
      "source": [
        "number_Location = geocoder.description_for_number(check_number, \"en\")\n",
        "print(number_Location)"
      ],
      "metadata": {
        "id": "_rXeLA1tViPq",
        "outputId": "14933cd7-7c8c-40ed-d427-dbc647dd9cac",
        "colab": {
          "base_uri": "https://localhost:8080/"
        }
      },
      "execution_count": null,
      "outputs": [
        {
          "output_type": "stream",
          "name": "stdout",
          "text": [
            "India\n"
          ]
        }
      ]
    },
    {
      "cell_type": "code",
      "source": [
        "from phonenumbers import carrier\n",
        "service_provider = phonenumbers.parse(number, \"RO\")\n",
        "print(carrier.name_for_number(service_provider, \"en\"))"
      ],
      "metadata": {
        "id": "zK0MVp-BViSV",
        "outputId": "b15c8b18-0ba5-4cba-b9f4-4de1c8e2e796",
        "colab": {
          "base_uri": "https://localhost:8080/"
        }
      },
      "execution_count": null,
      "outputs": [
        {
          "output_type": "stream",
          "name": "stdout",
          "text": [
            "\n"
          ]
        }
      ]
    },
    {
      "cell_type": "code",
      "source": [
        "!pip install openCage"
      ],
      "metadata": {
        "id": "AunXZ9rNViYi",
        "outputId": "c52f26cd-bf08-46ef-86c1-beb93663a7f0",
        "colab": {
          "base_uri": "https://localhost:8080/"
        }
      },
      "execution_count": null,
      "outputs": [
        {
          "output_type": "stream",
          "name": "stdout",
          "text": [
            "Collecting openCage\n",
            "  Downloading opencage-3.0.2-py3-none-any.whl.metadata (7.6 kB)\n",
            "Requirement already satisfied: Requests>=2.31.0 in /usr/local/lib/python3.10/dist-packages (from openCage) (2.32.3)\n",
            "Collecting backoff>=2.2.1 (from openCage)\n",
            "  Downloading backoff-2.2.1-py3-none-any.whl.metadata (14 kB)\n",
            "Requirement already satisfied: tqdm>=4.66.4 in /usr/local/lib/python3.10/dist-packages (from openCage) (4.66.5)\n",
            "Requirement already satisfied: certifi>=2024.07.04 in /usr/local/lib/python3.10/dist-packages (from openCage) (2024.8.30)\n",
            "Requirement already satisfied: aiohttp>=3.10.5 in /usr/local/lib/python3.10/dist-packages (from openCage) (3.10.9)\n",
            "Requirement already satisfied: aiohappyeyeballs>=2.3.0 in /usr/local/lib/python3.10/dist-packages (from aiohttp>=3.10.5->openCage) (2.4.3)\n",
            "Requirement already satisfied: aiosignal>=1.1.2 in /usr/local/lib/python3.10/dist-packages (from aiohttp>=3.10.5->openCage) (1.3.1)\n",
            "Requirement already satisfied: attrs>=17.3.0 in /usr/local/lib/python3.10/dist-packages (from aiohttp>=3.10.5->openCage) (24.2.0)\n",
            "Requirement already satisfied: frozenlist>=1.1.1 in /usr/local/lib/python3.10/dist-packages (from aiohttp>=3.10.5->openCage) (1.4.1)\n",
            "Requirement already satisfied: multidict<7.0,>=4.5 in /usr/local/lib/python3.10/dist-packages (from aiohttp>=3.10.5->openCage) (6.1.0)\n",
            "Requirement already satisfied: yarl<2.0,>=1.12.0 in /usr/local/lib/python3.10/dist-packages (from aiohttp>=3.10.5->openCage) (1.13.1)\n",
            "Requirement already satisfied: async-timeout<5.0,>=4.0 in /usr/local/lib/python3.10/dist-packages (from aiohttp>=3.10.5->openCage) (4.0.3)\n",
            "Requirement already satisfied: charset-normalizer<4,>=2 in /usr/local/lib/python3.10/dist-packages (from Requests>=2.31.0->openCage) (3.3.2)\n",
            "Requirement already satisfied: idna<4,>=2.5 in /usr/local/lib/python3.10/dist-packages (from Requests>=2.31.0->openCage) (3.10)\n",
            "Requirement already satisfied: urllib3<3,>=1.21.1 in /usr/local/lib/python3.10/dist-packages (from Requests>=2.31.0->openCage) (2.2.3)\n",
            "Requirement already satisfied: typing-extensions>=4.1.0 in /usr/local/lib/python3.10/dist-packages (from multidict<7.0,>=4.5->aiohttp>=3.10.5->openCage) (4.12.2)\n",
            "Downloading opencage-3.0.2-py3-none-any.whl (21 kB)\n",
            "Downloading backoff-2.2.1-py3-none-any.whl (15 kB)\n",
            "Installing collected packages: backoff, openCage\n",
            "Successfully installed backoff-2.2.1 openCage-3.0.2\n"
          ]
        }
      ]
    },
    {
      "cell_type": "code",
      "source": [
        "import opencage\n",
        "from opencage.geocoder import OpenCageGeocode"
      ],
      "metadata": {
        "id": "JfPLFGPbXqD9"
      },
      "execution_count": null,
      "outputs": []
    },
    {
      "cell_type": "markdown",
      "source": [],
      "metadata": {
        "id": "p1W88J0aX-Kz"
      }
    },
    {
      "cell_type": "code",
      "source": [
        "geocoder = OpenCageGeocode(key)\n",
        "query = str(number_Location)\n",
        "results = geocoder.geocode(query)"
      ],
      "metadata": {
        "id": "G82d03G9XqG3"
      },
      "execution_count": null,
      "outputs": []
    },
    {
      "cell_type": "code",
      "source": [
        "lat = results[0]['geometry']['lat']\n",
        "lng = results[0]['geometry']['lng']"
      ],
      "metadata": {
        "id": "9pX0nm2CXqJv"
      },
      "execution_count": null,
      "outputs": []
    },
    {
      "cell_type": "code",
      "source": [
        "print(service_provider)\n",
        "print(lat,lng)\n",
        "print(number_Location)"
      ],
      "metadata": {
        "id": "JzBkKnooXqMm",
        "outputId": "fc1031f0-2c74-411b-fd37-3953b2ed1551",
        "colab": {
          "base_uri": "https://localhost:8080/"
        }
      },
      "execution_count": null,
      "outputs": [
        {
          "output_type": "stream",
          "name": "stdout",
          "text": [
            "Country Code: 40 National Number: 6381683582\n",
            "22.3511148 78.6677428\n",
            "India\n"
          ]
        }
      ]
    },
    {
      "cell_type": "code",
      "source": [
        "map_location = folium.Map(location=[lat, lng], zoom_start=9)\n",
        "folium.Marker([lat, lng], popup=number_Location).add_to(map_location)"
      ],
      "metadata": {
        "id": "6pkkLdh8XqPQ",
        "outputId": "71a18104-74de-4e20-c995-8a67de976ecf",
        "colab": {
          "base_uri": "https://localhost:8080/"
        }
      },
      "execution_count": null,
      "outputs": [
        {
          "output_type": "execute_result",
          "data": {
            "text/plain": [
              "<folium.map.Marker at 0x7f80daff4a30>"
            ]
          },
          "metadata": {},
          "execution_count": 42
        }
      ]
    },
    {
      "cell_type": "code",
      "source": [
        "map_location.save(\"mylocation.html\")"
      ],
      "metadata": {
        "id": "58xHzaeVXqSR"
      },
      "execution_count": null,
      "outputs": []
    },
    {
      "cell_type": "code",
      "source": [],
      "metadata": {
        "id": "-NN6sjceXqU5"
      },
      "execution_count": null,
      "outputs": []
    },
    {
      "cell_type": "code",
      "source": [],
      "metadata": {
        "id": "bxJwmwJOXqXu"
      },
      "execution_count": null,
      "outputs": []
    },
    {
      "cell_type": "code",
      "source": [],
      "metadata": {
        "id": "crVPRy3mXqab"
      },
      "execution_count": null,
      "outputs": []
    },
    {
      "cell_type": "code",
      "source": [],
      "metadata": {
        "id": "SjBrvVrUXqdH"
      },
      "execution_count": null,
      "outputs": []
    },
    {
      "cell_type": "code",
      "source": [],
      "metadata": {
        "id": "M1-HikqLXqfx"
      },
      "execution_count": null,
      "outputs": []
    },
    {
      "cell_type": "code",
      "source": [],
      "metadata": {
        "id": "MEGx7mvkXqjT"
      },
      "execution_count": null,
      "outputs": []
    }
  ],
  "metadata": {
    "colab": {
      "provenance": [],
      "include_colab_link": true
    },
    "kernelspec": {
      "display_name": "Python 3",
      "name": "python3"
    }
  },
  "nbformat": 4,
  "nbformat_minor": 0
}